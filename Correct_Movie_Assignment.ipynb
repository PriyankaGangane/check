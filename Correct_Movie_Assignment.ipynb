{
  "nbformat": 4,
  "nbformat_minor": 0,
  "metadata": {
    "colab": {
      "provenance": []
    },
    "kernelspec": {
      "name": "python3",
      "display_name": "Python 3"
    },
    "language_info": {
      "name": "python"
    }
  },
  "cells": [
    {
      "cell_type": "code",
      "execution_count": 1,
      "metadata": {
        "id": "xbMblV3fFQyD"
      },
      "outputs": [],
      "source": [
        "import numpy as np\n",
        "import pandas as pd\n",
        "from tensorflow import keras\n",
        "from tensorflow.keras.datasets import imdb\n",
        "from tensorflow.keras.models import Sequential\n",
        "from tensorflow.keras.layers import Dense, Embedding, LSTM\n",
        "from tensorflow.keras.preprocessing import sequence"
      ]
    },
    {
      "cell_type": "code",
      "source": [
        "max_words = 10000"
      ],
      "metadata": {
        "id": "DWcgkbvKFdJt"
      },
      "execution_count": 2,
      "outputs": []
    },
    {
      "cell_type": "code",
      "source": [
        "(x_train, y_train), (x_test, y_test) = imdb.load_data(num_words=max_words)"
      ],
      "metadata": {
        "colab": {
          "base_uri": "https://localhost:8080/"
        },
        "id": "giVbNgYDFmrC",
        "outputId": "435e0360-e436-4210-b44d-b63d52e6a5a6"
      },
      "execution_count": 3,
      "outputs": [
        {
          "output_type": "stream",
          "name": "stdout",
          "text": [
            "Downloading data from https://storage.googleapis.com/tensorflow/tf-keras-datasets/imdb.npz\n",
            "17464789/17464789 [==============================] - 0s 0us/step\n"
          ]
        }
      ]
    },
    {
      "cell_type": "code",
      "source": [
        "# Set the maximum length of each review (pad or truncate accordingly)\n",
        "max_length = 500\n",
        "x_train = sequence.pad_sequences(x_train, maxlen=max_length)\n",
        "x_test = sequence.pad_sequences(x_test, maxlen=max_length)"
      ],
      "metadata": {
        "id": "qoshLD1YFtHz"
      },
      "execution_count": 4,
      "outputs": []
    },
    {
      "cell_type": "code",
      "source": [
        "# Build the model\n",
        "model = Sequential()\n",
        "model.add(Embedding(max_words, 32, input_length=max_length))\n",
        "model.add(LSTM(100))\n",
        "model.add(Dense(1, activation='sigmoid'))"
      ],
      "metadata": {
        "id": "EVvw29pgF0cs"
      },
      "execution_count": 5,
      "outputs": []
    },
    {
      "cell_type": "code",
      "source": [
        "# Compile the model\n",
        "model.compile(loss='binary_crossentropy', optimizer='adam', metrics=['accuracy'])"
      ],
      "metadata": {
        "id": "IT2JhOvhF681"
      },
      "execution_count": 6,
      "outputs": []
    },
    {
      "cell_type": "code",
      "source": [
        "# Train the model\n",
        "batch_size = 64\n",
        "epochs = 5\n",
        "model.fit(x_train, y_train, batch_size=batch_size, epochs=epochs, validation_data=(x_test, y_test))"
      ],
      "metadata": {
        "colab": {
          "base_uri": "https://localhost:8080/"
        },
        "id": "UOmlAjYKGBq8",
        "outputId": "f9052c33-de02-4b65-ad85-d5e367db648a"
      },
      "execution_count": null,
      "outputs": [
        {
          "output_type": "stream",
          "name": "stdout",
          "text": [
            "Epoch 1/5\n",
            "391/391 [==============================] - 445s 1s/step - loss: 0.4656 - accuracy: 0.7748 - val_loss: 0.3253 - val_accuracy: 0.8625\n",
            "Epoch 2/5\n",
            "391/391 [==============================] - 469s 1s/step - loss: 0.2862 - accuracy: 0.8854 - val_loss: 0.3918 - val_accuracy: 0.8492\n",
            "Epoch 3/5\n",
            "391/391 [==============================] - 465s 1s/step - loss: 0.2024 - accuracy: 0.9239 - val_loss: 0.3177 - val_accuracy: 0.8765\n",
            "Epoch 4/5\n",
            "391/391 [==============================] - 465s 1s/step - loss: 0.2024 - accuracy: 0.9240 - val_loss: 0.3722 - val_accuracy: 0.8619\n",
            "Epoch 5/5\n",
            "358/391 [==========================>...] - ETA: 27s - loss: 0.1441 - accuracy: 0.9485"
          ]
        }
      ]
    },
    {
      "cell_type": "code",
      "source": [
        "# Evaluate the model\n",
        "loss, accuracy = model.evaluate(x_test, y_test)\n",
        "print(\"Test loss:\", loss)\n",
        "print(\"Test accuracy:\", accuracy)"
      ],
      "metadata": {
        "colab": {
          "base_uri": "https://localhost:8080/"
        },
        "id": "RpXUqSLlT3BW",
        "outputId": "7d8a0ebe-6cc0-45f9-bbd2-ca4f48df9989"
      },
      "execution_count": 8,
      "outputs": [
        {
          "output_type": "stream",
          "name": "stdout",
          "text": [
            "782/782 [==============================] - 95s 122ms/step - loss: 0.3604 - accuracy: 0.8712\n",
            "Test loss: 0.36042946577072144\n",
            "Test accuracy: 0.8712400197982788\n"
          ]
        }
      ]
    },
    {
      "cell_type": "code",
      "source": [
        "# Make predictions\n",
        "sample_review = [\"The movie was great and the acting was superb!\"]\n",
        "sample_review = imdb.get_word_index()\n",
        "sample_review = [sample_review[word] if word in sample_review and sample_review[word] < max_words else 0 for word in sample_review]\n",
        "sample_review = sequence.pad_sequences([sample_review], maxlen=max_length)"
      ],
      "metadata": {
        "colab": {
          "base_uri": "https://localhost:8080/"
        },
        "id": "N7T7V3_ZU4ON",
        "outputId": "45129edf-729d-4f34-bee1-a67723de2ebc"
      },
      "execution_count": 9,
      "outputs": [
        {
          "output_type": "stream",
          "name": "stdout",
          "text": [
            "Downloading data from https://storage.googleapis.com/tensorflow/tf-keras-datasets/imdb_word_index.json\n",
            "1641221/1641221 [==============================] - 0s 0us/step\n"
          ]
        }
      ]
    },
    {
      "cell_type": "code",
      "source": [
        "prediction = model.predict(sample_review)[0][0]\n",
        "predicted_class = 1 if prediction >= 0.5 else 0\n",
        "sentiment = \"positive\" if predicted_class == 1 else \"negative\"\n",
        "print(\"Predicted sentiment:\", sentiment)"
      ],
      "metadata": {
        "colab": {
          "base_uri": "https://localhost:8080/"
        },
        "id": "pg003oXzU-Xv",
        "outputId": "e1662321-a341-4201-b847-3069c1a26261"
      },
      "execution_count": 10,
      "outputs": [
        {
          "output_type": "stream",
          "name": "stdout",
          "text": [
            "1/1 [==============================] - 1s 969ms/step\n",
            "Predicted sentiment: negative\n"
          ]
        }
      ]
    }
  ]
}